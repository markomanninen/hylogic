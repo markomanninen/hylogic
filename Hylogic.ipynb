{
 "cells": [
  {
   "cell_type": "markdown",
   "metadata": {},
   "source": [
    "# Hylogic\n",
    "\n",
    "Propositional logic evaluator for [Hy](https://github.com/hylang/hy)\n",
    "\n",
    "## Requirements and installation\n",
    "\n",
    "### Jupyter and Hy\n",
    "\n",
    "A little bit work is required to get everything running on your local computer. First you need Jupyter Notebook and Calysto Hy kernel to interact with this document. Easy way to get Jupyter Notebook running is to use Anaconda package from Continuum: https://www.continuum.io/downloads. It will install Python language interpreter to your computer, which is also required.\n",
    "\n",
    "[Hy](http://docs.hylang.org/en/latest/index.html) language, which by the way is a cool Lisp syntax and feature set upon Python, you can get from: https://github.com/hylang/hy. Then follow Calysto Hy kernel installation instructions from their GitHub project page: https://github.com/Calysto/calysto_hy.\n",
    "\n",
    "After installation you should be ready to print environment information running this Hy code:"
   ]
  },
  {
   "cell_type": "code",
   "execution_count": 1,
   "metadata": {
    "collapsed": false
   },
   "outputs": [],
   "source": [
    "; require macros and import functions and variables\n",
    "(require (hylogic.macros(*)))\n",
    "(import [hylogic.macros[*]])\n",
    "; NL for newlines\n",
    "(setv NL \"\\r\\n\")"
   ]
  },
  {
   "cell_type": "markdown",
   "metadata": {},
   "source": [
    "## Atoms and Axioms\n",
    "\n",
    "### Symbols\n",
    "\n",
    "Propositional constants:\n",
    "\n",
    "- ⊤ (True / 1)\n",
    "- ⊥ (False / 0)\n",
    "\n",
    "### Connectives"
   ]
  },
  {
   "cell_type": "code",
   "execution_count": 2,
   "metadata": {
    "collapsed": false
   },
   "outputs": [
    {
     "name": "stdout",
     "output_type": "stream",
     "text": [
      "¬ \t not     \t Negation\n",
      "∧ \t and     \t Conjunction\n",
      "↑ \t nand     \t Nonconjunction\n",
      "∨ \t or     \t Disjunction\n",
      "↓ \t nor     \t Nondisjunction\n",
      "↮ \t xor     \t Exclusive or\n",
      "↔ \t xnor     \t Nonexclusive or\n",
      "≡ \t eqv     \t Equivalence\n",
      "≢ \t neqv     \t Nonequivalence\n",
      "← \t cimp     \t Converse implication\n",
      "↛ \t cnimp     \t Converse nonimplication\n",
      "↚ \t mimp     \t Material implication\n",
      "→ \t mnimp     \t Material nonimplication\n"
     ]
    }
   ],
   "source": [
    "(for [[f data] connectives]\n",
    "  (print (last data) \"\\t\" (first data) \"    \\t\" (second data)))"
   ]
  },
  {
   "cell_type": "markdown",
   "metadata": {},
   "source": [
    "## Propositions\n",
    "\n",
    "Propositional variables are created with `defproposition` and `defproposition*` macros. Latter macro also creates a negation variable to reduce some repetitive work."
   ]
  },
  {
   "cell_type": "code",
   "execution_count": 3,
   "metadata": {
    "collapsed": false
   },
   "outputs": [
    {
     "name": "stdout",
     "output_type": "stream",
     "text": [
      "P<Today is Tuesday>=False \n",
      " ¬P<Today is Tuesday>=True\n"
     ]
    }
   ],
   "source": [
    "(defproposition* P False \"Today is Tuesday\")\n",
    "(defproposition* Q True \"John will go to work\")\n",
    "\n",
    "(print P NL ¬P)"
   ]
  },
  {
   "cell_type": "markdown",
   "metadata": {},
   "source": [
    "## Argumentation\n",
    "\n",
    "Introducting `defargument`, `defpremise`, and `defconclusion` macros."
   ]
  },
  {
   "cell_type": "code",
   "execution_count": 4,
   "metadata": {
    "collapsed": false
   },
   "outputs": [
    {
     "name": "stdout",
     "output_type": "stream",
     "text": [
      "\n",
      "  P → Q\n",
      "  P\n",
      "--------------\n",
      "∴ Q\n",
      "\n"
     ]
    }
   ],
   "source": [
    "(setv a \n",
    "  (defargument \n",
    "    ; If today is Tuesday, then John will go to work.\n",
    "    (defpremise P → Q)\n",
    "    ; Today is Tuesday.\n",
    "    (defpremise P)\n",
    "    ; Therefore, John will go to work.\n",
    "    (defconclusion Q)))\n",
    "\n",
    "(print a)"
   ]
  },
  {
   "cell_type": "code",
   "execution_count": 5,
   "metadata": {
    "collapsed": false
   },
   "outputs": [
    {
     "name": "stdout",
     "output_type": "stream",
     "text": [
      "True \n",
      " P<Today is Tuesday>=False \n",
      " Q<John will go to work>=True\n"
     ]
    }
   ],
   "source": [
    "(print\n",
    "  (deffix (P → Q)) NL\n",
    "  (deffix P) NL\n",
    "  (deffix Q))"
   ]
  },
  {
   "cell_type": "code",
   "execution_count": 6,
   "metadata": {
    "collapsed": false
   },
   "outputs": [
    {
     "name": "stdout",
     "output_type": "stream",
     "text": [
      "P<It is raining>=True \n",
      " Q<It is cold outside>=True \n",
      " R<I'm indoors>=True\n"
     ]
    }
   ],
   "source": [
    "(defproposition P True \"It is raining\")\n",
    "(defproposition Q True \"It is cold outside\")\n",
    "(defproposition R True \"I'm indoors\")\n",
    "\n",
    "(print P NL Q NL R)"
   ]
  },
  {
   "cell_type": "code",
   "execution_count": 7,
   "metadata": {
    "collapsed": false
   },
   "outputs": [],
   "source": [
    "; set up argument inference rules\n",
    "(setv a \n",
    "  (defargument \n",
    "    ; If \"it is raining and it is cold outside\" then \"I'm indoors\"\n",
    "    (defpremise (P ∧ Q) → R)\n",
    "    ; It is raining and it is cold outside\n",
    "    (defpremise (P ∧ Q))\n",
    "    ; Therefore, I'm indoors\n",
    "    (defconclusion R)))"
   ]
  },
  {
   "cell_type": "code",
   "execution_count": 8,
   "metadata": {
    "collapsed": false
   },
   "outputs": [
    {
     "name": "stdout",
     "output_type": "stream",
     "text": [
      "\n",
      "  (P ∧ Q) → R\n",
      "  (P ∧ Q)\n",
      "--------------\n",
      "∴ R\n",
      "\n"
     ]
    }
   ],
   "source": [
    "(print a)"
   ]
  },
  {
   "cell_type": "markdown",
   "metadata": {},
   "source": [
    "## First order logic\n",
    "\n",
    "### Quantifiers, predicates, variables, sets\n",
    "\n",
    "#### Universal quantifier (∀)"
   ]
  },
  {
   "cell_type": "code",
   "execution_count": 9,
   "metadata": {
    "collapsed": false
   },
   "outputs": [
    {
     "data": {
      "text/plain": [
       "False"
      ]
     },
     "execution_count": 9,
     "metadata": {},
     "output_type": "execute_result"
    }
   ],
   "source": [
    "(∀ x (x > 1) (range 1 10)) ; are all items [1 ... 9] greater than 1?"
   ]
  },
  {
   "cell_type": "markdown",
   "metadata": {},
   "source": [
    "#### Existential  quantifier (∃)"
   ]
  },
  {
   "cell_type": "code",
   "execution_count": 10,
   "metadata": {
    "collapsed": false
   },
   "outputs": [
    {
     "data": {
      "text/plain": [
       "True"
      ]
     },
     "execution_count": 10,
     "metadata": {},
     "output_type": "execute_result"
    }
   ],
   "source": [
    "(∃ x (x > 1) (range 1 10)) ; is at least one item of items [1 ... 9] greater than 1?"
   ]
  },
  {
   "cell_type": "markdown",
   "metadata": {},
   "source": [
    "## Truth tables"
   ]
  },
  {
   "cell_type": "code",
   "execution_count": 11,
   "metadata": {
    "collapsed": false
   },
   "outputs": [
    {
     "data": {
      "text/html": [
       "<table><thead style='background-color:#dcdccc'><tr><th colspan=3>Converse implication (cimp?)</th></tr></thead><tbody><tr><td style='text-align:center'>0</td><td style='text-align:center'>0</td><td style='background-color:#7f9f7f'>True</td></tr><tr><td style='text-align:center'>0</td><td style='text-align:center'>1</td><td style='background-color:#cc9393'>False</td></tr><tr><td style='text-align:center'>1</td><td style='text-align:center'>0</td><td style='background-color:#7f9f7f'>True</td></tr><tr><td style='text-align:center'>1</td><td style='text-align:center'>1</td><td style='background-color:#7f9f7f'>True</td></tr></tbody></table>"
      ],
      "text/plain": [
       "<IPython.core.display.HTML object>"
      ]
     },
     "execution_count": 11,
     "metadata": {},
     "output_type": "execute_result"
    }
   ],
   "source": [
    "(truth-tables-html 2 cimp?)"
   ]
  },
  {
   "cell_type": "markdown",
   "metadata": {},
   "source": [
    "## Venn diagrams"
   ]
  },
  {
   "cell_type": "code",
   "execution_count": 12,
   "metadata": {
    "collapsed": false
   },
   "outputs": [],
   "source": [
    ";(venn-diagram)"
   ]
  },
  {
   "cell_type": "code",
   "execution_count": 13,
   "metadata": {
    "collapsed": false
   },
   "outputs": [
    {
     "data": {
      "text/plain": [
       "True"
      ]
     },
     "execution_count": 13,
     "metadata": {},
     "output_type": "execute_result"
    }
   ],
   "source": [
    "(defn odd? [x &rest y]\n",
    "  (= 1 (% (+ x (sum y)) 2)))\n",
    "\n",
    "(deffix odd? 1 1 1)"
   ]
  },
  {
   "cell_type": "markdown",
   "metadata": {},
   "source": [
    "### The [MIT](https://choosealicense.com/licenses/mit/) License\n",
    "\n",
    "Copyright © 2017 Marko Manninen"
   ]
  }
 ],
 "metadata": {
  "anaconda-cloud": {},
  "kernelspec": {
   "display_name": "Calysto Hy",
   "language": "hy",
   "name": "calysto_hy"
  },
  "language_info": {
   "codemirror_mode": {
    "name": "scheme"
   },
   "mimetype": "text/x-hylang",
   "name": "hy",
   "pygments_lexer": "lisp"
  }
 },
 "nbformat": 4,
 "nbformat_minor": 1
}
