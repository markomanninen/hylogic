{
 "cells": [
  {
   "cell_type": "markdown",
   "metadata": {},
   "source": [
    "# Hylogic\n",
    "\n",
    "Propositional, predicate, and first-order logic evaluator for [Hy](https://github.com/hylang/hy)\n",
    "\n",
    "## Requirements and installation\n",
    "<hr/>\n",
    "### Jupyter and Hy\n",
    "\n",
    "A little bit work is required to get everything running on your local computer. First you need Jupyter Notebook and Calysto Hy kernel to interact with this document. Easy way to get Jupyter Notebook running is to use Anaconda package from Continuum: https://www.continuum.io/downloads. It will install Python language interpreter to your computer, which is also required.\n",
    "\n",
    "[Hy](http://docs.hylang.org/en/latest/index.html) language, which by the way is a cool Lisp syntax and feature set upon Python, you can get from: https://github.com/hylang/hy. Install it and then follow Calysto Hy kernel installation instructions from their GitHub project page: https://github.com/Calysto/calysto_hy.\n",
    "\n",
    "### HyLogic module\n",
    "\n",
    "Finally you need to retrieve HyLogic module from GitHub: https://github.com/markomanninen/hylogic\n",
    "\n",
    "After all installations you should be ready to print environment information running the following Hy code:"
   ]
  },
  {
   "cell_type": "code",
   "execution_count": 73,
   "metadata": {
    "collapsed": false
   },
   "outputs": [
    {
     "name": "stdout",
     "output_type": "stream",
     "text": [
      "Hy version:  0.12.1+24.g45b7a4a\n",
      "Python 3.5.2 |Anaconda custom (64-bit)| (default, Jul  5 2016, 11:41:13) [MSC v.1900 64 bit (AMD64)]\n"
     ]
    }
   ],
   "source": [
    "(import hy sys)\n",
    "(print \"Hy version: \" hy.__version__)\n",
    "(print \"Python\" sys.version)"
   ]
  },
  {
   "cell_type": "markdown",
   "metadata": {},
   "source": [
    "### Import main macros"
   ]
  },
  {
   "cell_type": "code",
   "execution_count": 74,
   "metadata": {
    "collapsed": false
   },
   "outputs": [],
   "source": [
    "; require macros and import functions and variables\n",
    "(require (hylogic.macros (*)))\n",
    "(import [hylogic.macros [*]])\n",
    "; NL for newlines\n",
    "(setv NL \"\\r\\n\")"
   ]
  },
  {
   "cell_type": "markdown",
   "metadata": {},
   "source": [
    "## Propositional logic\n",
    "<hr/>\n",
    "\n",
    "### Symbols\n",
    "\n",
    "Propositional constants:\n",
    "\n",
    "- ⊤ (True / 1)\n",
    "- ⊥ (False / 0)\n",
    "\n",
    "### Connectives\n",
    "\n",
    "Let us list all connectives to operate with the propositional and the first-order logic:"
   ]
  },
  {
   "cell_type": "code",
   "execution_count": 75,
   "metadata": {
    "collapsed": false
   },
   "outputs": [
    {
     "name": "stdout",
     "output_type": "stream",
     "text": [
      "¬ \t not     \t Negation\n",
      "∧ \t and     \t Conjunction\n",
      "↑ \t nand     \t Nonconjunction\n",
      "∨ \t or     \t Disjunction\n",
      "↓ \t nor     \t Nondisjunction\n",
      "↮ \t xor     \t Exclusive or\n",
      "↔ \t xnor     \t Nonexclusive or\n",
      "≡ \t eqv     \t Equivalence\n",
      "≢ \t neqv     \t Nonequivalence\n",
      "← \t cimp     \t Converse implication\n",
      "↛ \t cnimp     \t Converse nonimplication\n",
      "↚ \t mimp     \t Material implication\n",
      "→ \t mnimp     \t Material nonimplication\n"
     ]
    }
   ],
   "source": [
    "(for [[f data] connectives]\n",
    "  (print (last data) \"\\t\" (first data) \"    \\t\" (second data)))"
   ]
  },
  {
   "cell_type": "markdown",
   "metadata": {},
   "source": [
    "### Basic axioms and theorems\n",
    "\n",
    "- Identity $P$ = $P$\n",
    "- Negation ⊤ = ¬⊥ and ¬⊤ = ⊥\n",
    "\n",
    "## Propositions\n",
    "\n",
    "Propositional variables are created with `defproposition` and `defproposition*` macros. Latter macro also creates a negation variable to reduce some repetitive work. In `HyLogic` a proposition consists of:\n",
    "\n",
    "1) a propositional variable that is usually denoted by a capital letter like $P$, $Q$ and $R$\n",
    "\n",
    "2) a truth value that is either $True$ or $False$. Truth value can also be defined by using the number $1$ for $True$ and the number $0$ for $False$ or by using constant symbols $⊤$ and $⊥$ respectively\n",
    "\n",
    "3) a sentence (statement), or a literal representation of the proposition such as the phrase \"Today is Tuesday\"\n",
    "\n",
    "#### Example 1\n",
    "\n",
    "Let us define two propositions and their negations by using `defproposition*` macro. Format is the following: `(macro symbol truth-value statement)`."
   ]
  },
  {
   "cell_type": "code",
   "execution_count": 76,
   "metadata": {
    "collapsed": false
   },
   "outputs": [],
   "source": [
    "(defproposition* P False \"Today is Tuesday\")\n",
    "(defproposition* Q True \"John will go to work\")"
   ]
  },
  {
   "cell_type": "markdown",
   "metadata": {},
   "source": [
    "And then print out the propositions:"
   ]
  },
  {
   "cell_type": "code",
   "execution_count": 77,
   "metadata": {
    "collapsed": false
   },
   "outputs": [
    {
     "name": "stdout",
     "output_type": "stream",
     "text": [
      "P<Today is Tuesday>=False ¬P<Today is Tuesday>=True \n",
      "\n",
      "Q<John will go to work>=True ¬Q<John will go to work>=False\n"
     ]
    }
   ],
   "source": [
    "(print P ¬P NL)\n",
    "(print Q ¬Q)"
   ]
  },
  {
   "cell_type": "markdown",
   "metadata": {},
   "source": [
    "From the output we find each proposition and its negation represented in a string format that distinquishes all three aspects of the proposition namely the symbol, the literal representation and the truth value of the proposition.\n",
    "\n",
    "### Explanation\n",
    "\n",
    "Maybe a small explanation here is in place because understanding the basic components of the propositional logic requires the understanding of the common convention on how propositional logic works and how it is represented in a written or a spoken format.\n",
    "\n",
    "When we define a proposition $P$ (that is just a freely selected symbol) to mean \"Today is Tuesday\" and to be False, the following happens. We define that the abbreviation  $P$ denotes the sentence \"Today is Tuesday\" in human language. We also define that the statement i.e. its truth value is $False$. Thus we could understand the proposition $P$ to say something like \"Today is not Tuesday\". But there is a possible pitfall in this expression. Strictly speaking the proposition $P$ is just saying that the statement \"Today is Tuesday\" is $False$, nothing more. We are not trying to determine if it is really Tuesday today, or if the statement is really true. In some sense logic is not meant to find out truth from the world, but to help to follow logical steps to determine the consequence of the predefined statements. So, we define $P$ to be $False$ and deduce the rest of the argumentation according to that definition.\n",
    "\n",
    "However, the negation of the proposition $P$, which is automaticly generated by the `defproposition*` macro, is $¬P$ (not $P$). By literal representation it could be written: \"It is not the case that Today is Tuesday\". `HyLogic` library doesn't try to formulate literal representations of the negated statements. Library just formulates negations by prepending $¬$ symbol to the propositional variable and switching the truth value to its opposite.\n",
    "\n",
    "The truth value of the negation of $P$ in question is of course $True$ because the original $P$ was defined to be $False$ and because we defined negation to work such way in the basic axioms and theorems."
   ]
  },
  {
   "cell_type": "markdown",
   "metadata": {},
   "source": [
    "## Argumentation\n",
    "<hr/>\n",
    "\n",
    "Introducing `defargument`, `defpremise`, and `defconclusion` macros.\n",
    "\n",
    "In propositional logic, argument is a set of premises following each other where the final premise is called the conclusion. This is also called deductive reasoning where the more spesific conclusion is reasoned from the more general premises or assumptions. In `HyLogic` argument is created by `defargument` macro which returns an object that can be assigned to a variable for further interaction. `Defargument` takes a serie of premises defined by `defpremise` macro plus the final conclusion defined by `defconclusion` macro. Each premise is a set of propositions and axioms constructed by [inference rules](https://en.wikipedia.org/wiki/Rule_of_inference).\n",
    "\n",
    "#### Example 2\n",
    "\n",
    "The next example is meant to demonstrate argumentation process in `HyLogic`. It is the famous [modus ponens](https://en.wikipedia.org/wiki/Modus_ponens) implication elimination rule. But there is a small twist that should stress the need of accuracy on small details in logical reasoning.\n",
    "\n",
    "First we will define the implication premise \"if P is True, then Q is True\". Then we will define the second premise \"P\" and finally the conclusion \"Q\"."
   ]
  },
  {
   "cell_type": "code",
   "execution_count": 78,
   "metadata": {
    "collapsed": false
   },
   "outputs": [],
   "source": [
    "(setv a \n",
    "  (defargument \n",
    "    ; If the proposition \"Today is Tuesday\" (P) is True\n",
    "    ; then the proposition \"John will go to work\" (Q) must be True as well.\n",
    "    (defpremise P → Q)\n",
    "    ; But we stated earlier on example 1 that the proposition \"Today is Tuesday\" (P) is False.\n",
    "    ; How should we deal with it now?\n",
    "    (defpremise P)\n",
    "    ; Well therefore, both <John will go to work>=True \n",
    "    ; and <John will go to work>=False should be concluded as a valid argument.\n",
    "    (defconclusion Q)))\n",
    ";(print a)"
   ]
  },
  {
   "cell_type": "markdown",
   "metadata": {},
   "source": [
    "It means that if Today is Tuesday is False OR \"John will go to work\" is True, then premise is True\n",
    "\n",
    "Thus if \"Today is not Tuesday\" then \"John will go to work\" or \"John will not go to work\"\n",
    "\n",
    "Moreover, because P is False, it tells nothing about Q so we can accept both True and False statements of Q"
   ]
  },
  {
   "cell_type": "code",
   "execution_count": 79,
   "metadata": {
    "collapsed": false
   },
   "outputs": [
    {
     "name": "stdout",
     "output_type": "stream",
     "text": [
      "P<Today is Tuesday>=False Q<John will go to work>=True \n",
      " If P, then Q = True\n"
     ]
    }
   ],
   "source": [
    "(defproposition* P False \"Today is Tuesday\")\n",
    "(defproposition* Q True \"John will go to work\")\n",
    "\n",
    "(print\n",
    "  (deffix P) (deffix Q) NL\n",
    "  \"If P, then Q =\" (deffix (P → Q)))"
   ]
  },
  {
   "cell_type": "code",
   "execution_count": 80,
   "metadata": {
    "collapsed": false
   },
   "outputs": [
    {
     "name": "stdout",
     "output_type": "stream",
     "text": [
      "¬P  →  Q \t\t\t True\n",
      "¬P \t\t\t\t False\n",
      "Q \t\t\t\t True\n",
      "((( ¬P  →  Q ) ∧  ¬P ) →  Q )\t True\n"
     ]
    }
   ],
   "source": [
    "(defn gs [s] (if (= s True) s.symbol (+ \"¬\" s.symbol)))\n",
    "\n",
    "(print (gs P) \" → \" (gs Q) \"\\t\\t\\t\" (deffix P → Q))\n",
    "(print (gs P) \"\\t\\t\\t\\t\" (deffix P = True))\n",
    ";(print \"(\" (gs P) \" → \" (gs Q) \") ∧ \" (gs P) \"\\t\\t\" (deffix (P → Q) ∧ P))\n",
    "(print (gs Q) \"\\t\\t\\t\\t\" (deffix Q = True))\n",
    "(print \"(((\" (gs P) \" → \" (gs Q) \") ∧ \" (gs P) \") → \" (gs Q) \")\\t\" (deffix (((P → Q) ∧ P) → Q)))"
   ]
  },
  {
   "cell_type": "markdown",
   "metadata": {},
   "source": [
    "#### Example 3\n",
    "\n",
    "Slightly more complicated argument is shown next."
   ]
  },
  {
   "cell_type": "code",
   "execution_count": 81,
   "metadata": {
    "collapsed": false
   },
   "outputs": [
    {
     "name": "stdout",
     "output_type": "stream",
     "text": [
      "P<It is raining>=True \n",
      " Q<It is cold outside>=True \n",
      " R<I'm indoors>=False\n"
     ]
    }
   ],
   "source": [
    "(defproposition P True \"It is raining\")\n",
    "(defproposition Q True \"It is cold outside\")\n",
    "(defproposition R False \"I'm indoors\")\n",
    "\n",
    "(print P NL Q NL R)"
   ]
  },
  {
   "cell_type": "code",
   "execution_count": 82,
   "metadata": {
    "collapsed": false
   },
   "outputs": [],
   "source": [
    "; set up argument inference rules\n",
    "(setv a \n",
    "  (defargument \n",
    "    ; If \"it is raining and it is cold outside\" then \"I'm indoors\"\n",
    "    (defpremise (P ∧ Q) → R)\n",
    "    ; It is raining and it is cold outside\n",
    "    (defpremise (P ∧ Q))\n",
    "    ; Therefore, I'm indoors\n",
    "    (defconclusion R)))"
   ]
  },
  {
   "cell_type": "code",
   "execution_count": 83,
   "metadata": {
    "collapsed": false
   },
   "outputs": [
    {
     "name": "stdout",
     "output_type": "stream",
     "text": [
      "\n",
      "  (P ∧ Q) → R\n",
      "  (P ∧ Q)\n",
      "--------------\n",
      "∴ R\n",
      "\n"
     ]
    }
   ],
   "source": [
    "(print a)"
   ]
  },
  {
   "cell_type": "code",
   "execution_count": 84,
   "metadata": {
    "collapsed": false
   },
   "outputs": [
    {
     "name": "stdout",
     "output_type": "stream",
     "text": [
      "P<It is raining>=True Q<It is cold outside>=True R<I'm indoors>=False \n",
      " If P and Q, then R = False\n"
     ]
    }
   ],
   "source": [
    "(print\n",
    "  (deffix P) (deffix Q) (deffix R) NL\n",
    "  \"If P and Q, then R =\" (deffix (P ∧ Q) → R))"
   ]
  },
  {
   "cell_type": "markdown",
   "metadata": {},
   "source": [
    "## First order logic\n",
    "<hr/>\n",
    "### Quantifiers, predicates, variables, sets\n",
    "\n",
    "#### Universal quantifier (∀)"
   ]
  },
  {
   "cell_type": "code",
   "execution_count": 85,
   "metadata": {
    "collapsed": false
   },
   "outputs": [
    {
     "data": {
      "text/plain": [
       "True"
      ]
     },
     "execution_count": 85,
     "metadata": {},
     "output_type": "execute_result"
    }
   ],
   "source": [
    ";(∀x∈ℕ>0∧<10)(x>0)\n",
    "; (all (map (fn (x) (x > 0)) (range 1 10)))\n",
    "(∀ (x) (x > 0) (range 1 10)) ; all items [1 ... 9] are greater than 0?"
   ]
  },
  {
   "cell_type": "code",
   "execution_count": 86,
   "metadata": {
    "collapsed": false
   },
   "outputs": [
    {
     "data": {
      "text/plain": [
       "True"
      ]
     },
     "execution_count": 86,
     "metadata": {},
     "output_type": "execute_result"
    }
   ],
   "source": [
    ";all(map(lambda x: x > 0, range(1 10)))\n",
    "(all (map (fn (x) (> x 0)) (range 1 10)))"
   ]
  },
  {
   "cell_type": "code",
   "execution_count": 87,
   "metadata": {
    "collapsed": false
   },
   "outputs": [
    {
     "data": {
      "text/plain": [
       "True"
      ]
     },
     "execution_count": 87,
     "metadata": {},
     "output_type": "execute_result"
    }
   ],
   "source": [
    "(∀ (x y) ((x > 0) ∧ (y < 0)) (range 1 10) (range -10 -1))"
   ]
  },
  {
   "cell_type": "code",
   "execution_count": 88,
   "metadata": {
    "collapsed": false
   },
   "outputs": [
    {
     "data": {
      "text/plain": [
       "False"
      ]
     },
     "execution_count": 88,
     "metadata": {},
     "output_type": "execute_result"
    }
   ],
   "source": [
    "(∀ (x) (∀ (y) ((x > 0) ∧ (y < 0)) (range 1 10)) (range -10 -1))"
   ]
  },
  {
   "cell_type": "code",
   "execution_count": 89,
   "metadata": {
    "collapsed": false
   },
   "outputs": [
    {
     "data": {
      "text/plain": [
       "False"
      ]
     },
     "execution_count": 89,
     "metadata": {},
     "output_type": "execute_result"
    }
   ],
   "source": [
    "(∀ (x) ((x > 0) ∧ (∀ (y) (y < 0) (range 1 10))) (range -10 -1))\n",
    ";(macroexpand `(∀ (x) ((x > 0) ∧ (∀ (y) (y < 0) (range 1 10))) (range -10 -1)))"
   ]
  },
  {
   "cell_type": "code",
   "execution_count": 90,
   "metadata": {
    "collapsed": false
   },
   "outputs": [
    {
     "data": {
      "text/plain": [
       "True"
      ]
     },
     "execution_count": 90,
     "metadata": {},
     "output_type": "execute_result"
    }
   ],
   "source": [
    "; Every whole number is divisible by 1 and itself.\n",
    ";(∀x)(Div(x,x)∧(Div(1,x))\n",
    "\n",
    ";(defoperator mod [x y] (% x y))\n",
    "(defoperator mod0? [x y] (zero? (% x y)))\n",
    "(defoperator Div [x y] (mod0? x y))\n",
    "\n",
    "(setv domain-set [1 2 3])\n",
    "\n",
    "(∀ (x) ((Div x 1) ∧ (Div x x)) domain-set)"
   ]
  },
  {
   "cell_type": "code",
   "execution_count": 91,
   "metadata": {
    "collapsed": false
   },
   "outputs": [
    {
     "data": {
      "text/plain": [
       "True"
      ]
     },
     "execution_count": 91,
     "metadata": {},
     "output_type": "execute_result"
    }
   ],
   "source": [
    "(setv DX [1 1]\n",
    "      DY [-1 -2])\n",
    "; all[any[1-1=0 1-2=-1] any[1-1=0 1-2=-1]]\n",
    "(∀ (x) (∃ (y) (x + y = 0) DY) DX)"
   ]
  },
  {
   "cell_type": "code",
   "execution_count": 92,
   "metadata": {
    "collapsed": false
   },
   "outputs": [
    {
     "data": {
      "text/plain": [
       "False"
      ]
     },
     "execution_count": 92,
     "metadata": {},
     "output_type": "execute_result"
    }
   ],
   "source": [
    "; all[1-1=0 1-2=-1 1-1=0 1-2=-1]\n",
    "(∀ (x y) (x + y = 0) DX DY)"
   ]
  },
  {
   "cell_type": "markdown",
   "metadata": {},
   "source": [
    "#### Existential  quantifier (∃)"
   ]
  },
  {
   "cell_type": "code",
   "execution_count": 93,
   "metadata": {
    "collapsed": false
   },
   "outputs": [
    {
     "data": {
      "text/plain": [
       "True"
      ]
     },
     "execution_count": 93,
     "metadata": {},
     "output_type": "execute_result"
    }
   ],
   "source": [
    "(∃ (x) (x < 1) (range 0 10)) ; is at least one item of [0 ... 9] smaller than 1?"
   ]
  },
  {
   "cell_type": "code",
   "execution_count": 94,
   "metadata": {
    "collapsed": false
   },
   "outputs": [
    {
     "data": {
      "text/plain": [
       "False"
      ]
     },
     "execution_count": 94,
     "metadata": {},
     "output_type": "execute_result"
    }
   ],
   "source": [
    "; (∃x)((¬Div(x,x))∨(¬Div(1,x))\n",
    "(∃ (x) ( (¬ (x mod0? 1) ) ∨ (¬ (x mod0? x) ) ) domain-set)"
   ]
  },
  {
   "cell_type": "code",
   "execution_count": 95,
   "metadata": {
    "collapsed": false
   },
   "outputs": [
    {
     "data": {
      "text/plain": [
       "True"
      ]
     },
     "execution_count": 95,
     "metadata": {},
     "output_type": "execute_result"
    }
   ],
   "source": [
    "; any[1-1=0 1-2=-1 1-1=0 1-2=-1]\n",
    "(∃ (x y) ((x > 0) ∧ (y < 0)) DX DY)"
   ]
  },
  {
   "cell_type": "code",
   "execution_count": 96,
   "metadata": {
    "collapsed": false
   },
   "outputs": [
    {
     "data": {
      "text/plain": [
       "False"
      ]
     },
     "execution_count": 96,
     "metadata": {},
     "output_type": "execute_result"
    }
   ],
   "source": [
    "; any[all[1-1=0 1-2=-1] all[1-1=0 1-2=-1]]\n",
    "(∃ (x) (∀ (y) (x + y = 0) DY) DX)"
   ]
  },
  {
   "cell_type": "markdown",
   "metadata": {},
   "source": [
    "## Truth tables\n",
    "<hr/>"
   ]
  },
  {
   "cell_type": "code",
   "execution_count": 97,
   "metadata": {
    "collapsed": false
   },
   "outputs": [
    {
     "data": {
      "text/html": [
       "<table><thead style='background-color:#dcdccc'><tr><th colspan=3>Converse implication (cimp?)</th></tr></thead><tbody><tr><td style='text-align:center'>0</td><td style='text-align:center'>0</td><td style='background-color:#7f9f7f'>True</td></tr><tr><td style='text-align:center'>0</td><td style='text-align:center'>1</td><td style='background-color:#cc9393'>False</td></tr><tr><td style='text-align:center'>1</td><td style='text-align:center'>0</td><td style='background-color:#7f9f7f'>True</td></tr><tr><td style='text-align:center'>1</td><td style='text-align:center'>1</td><td style='background-color:#7f9f7f'>True</td></tr></tbody></table>"
      ],
      "text/plain": [
       "<IPython.core.display.HTML object>"
      ]
     },
     "execution_count": 97,
     "metadata": {},
     "output_type": "execute_result"
    }
   ],
   "source": [
    "(truth-tables-html 2 cimp?)"
   ]
  },
  {
   "cell_type": "code",
   "execution_count": 98,
   "metadata": {
    "collapsed": false
   },
   "outputs": [
    {
     "data": {
      "text/html": [
       "<table><thead style='background-color:#dcdccc'><tr><th colspan=3>Equivalence (eqv?)</th></tr></thead><tbody><tr><td style='text-align:center'>0</td><td style='text-align:center'>0</td><td style='background-color:#7f9f7f'>True</td></tr><tr><td style='text-align:center'>0</td><td style='text-align:center'>1</td><td style='background-color:#cc9393'>False</td></tr><tr><td style='text-align:center'>1</td><td style='text-align:center'>0</td><td style='background-color:#cc9393'>False</td></tr><tr><td style='text-align:center'>1</td><td style='text-align:center'>1</td><td style='background-color:#7f9f7f'>True</td></tr></tbody></table>"
      ],
      "text/plain": [
       "<IPython.core.display.HTML object>"
      ]
     },
     "execution_count": 98,
     "metadata": {},
     "output_type": "execute_result"
    }
   ],
   "source": [
    "(truth-tables-html 2 eqv?)"
   ]
  },
  {
   "cell_type": "code",
   "execution_count": 99,
   "metadata": {
    "collapsed": false
   },
   "outputs": [
    {
     "data": {
      "text/html": [
       "<table><thead style='background-color:#dcdccc'><tr><th colspan=3>Nonexclusive or (xnor?)</th></tr></thead><tbody><tr><td style='text-align:center'>0</td><td style='text-align:center'>0</td><td style='background-color:#7f9f7f'>True</td></tr><tr><td style='text-align:center'>0</td><td style='text-align:center'>1</td><td style='background-color:#cc9393'>False</td></tr><tr><td style='text-align:center'>1</td><td style='text-align:center'>0</td><td style='background-color:#cc9393'>False</td></tr><tr><td style='text-align:center'>1</td><td style='text-align:center'>1</td><td style='background-color:#7f9f7f'>True</td></tr></tbody></table>"
      ],
      "text/plain": [
       "<IPython.core.display.HTML object>"
      ]
     },
     "execution_count": 99,
     "metadata": {},
     "output_type": "execute_result"
    }
   ],
   "source": [
    "(truth-tables-html 2 xnor?)"
   ]
  },
  {
   "cell_type": "markdown",
   "metadata": {},
   "source": [
    "## Venn diagrams\n",
    "<hr/>"
   ]
  },
  {
   "cell_type": "code",
   "execution_count": 100,
   "metadata": {
    "collapsed": false
   },
   "outputs": [],
   "source": [
    ";(venn-diagram)"
   ]
  },
  {
   "cell_type": "code",
   "execution_count": 101,
   "metadata": {
    "collapsed": false
   },
   "outputs": [
    {
     "data": {
      "text/plain": [
       "True"
      ]
     },
     "execution_count": 101,
     "metadata": {},
     "output_type": "execute_result"
    }
   ],
   "source": [
    "(defn odd? [x &rest y]\n",
    "  (= 1 (% (+ x (sum y)) 2)))\n",
    "\n",
    "(deffix (odd? 1 1 1))"
   ]
  },
  {
   "cell_type": "markdown",
   "metadata": {},
   "source": [
    "### The [MIT](https://choosealicense.com/licenses/mit/) License\n",
    "\n",
    "Copyright © 2017 Marko Manninen"
   ]
  }
 ],
 "metadata": {
  "anaconda-cloud": {},
  "kernelspec": {
   "display_name": "Calysto Hy",
   "language": "hy",
   "name": "calysto_hy"
  },
  "language_info": {
   "codemirror_mode": {
    "name": "scheme"
   },
   "mimetype": "text/x-hylang",
   "name": "hy",
   "pygments_lexer": "lisp"
  }
 },
 "nbformat": 4,
 "nbformat_minor": 1
}
